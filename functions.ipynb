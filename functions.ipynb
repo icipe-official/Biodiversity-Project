{
 "cells": [
  {
   "cell_type": "code",
   "execution_count": 1,
   "id": "0b1f1f5f",
   "metadata": {},
   "outputs": [
    {
     "ename": "ModuleNotFoundError",
     "evalue": "No module named 'pandas'",
     "output_type": "error",
     "traceback": [
      "\u001b[31m---------------------------------------------------------------------------\u001b[39m",
      "\u001b[31mModuleNotFoundError\u001b[39m                       Traceback (most recent call last)",
      "\u001b[36mCell\u001b[39m\u001b[36m \u001b[39m\u001b[32mIn[1]\u001b[39m\u001b[32m, line 1\u001b[39m\n\u001b[32m----> \u001b[39m\u001b[32m1\u001b[39m \u001b[38;5;28;01mimport\u001b[39;00m\u001b[38;5;250m \u001b[39m\u001b[34;01mpandas\u001b[39;00m\u001b[38;5;250m \u001b[39m\u001b[38;5;28;01mas\u001b[39;00m\u001b[38;5;250m \u001b[39m\u001b[34;01mpd\u001b[39;00m\n",
      "\u001b[31mModuleNotFoundError\u001b[39m: No module named 'pandas'"
     ]
    }
   ],
   "source": [
    "import pandas as pd"
   ]
  },
  {
   "cell_type": "code",
   "execution_count": null,
   "id": "134b9778",
   "metadata": {},
   "outputs": [],
   "source": [
    "def extract_intactness(dataframe, GEE_Intactness_Layer = intactness_layer,GEE_Intactness_ID = \"constant\",Biome=\"None\"):\n",
    "    intactness = ee.Image(GEE_Intactness_Layer)\n",
    "    df= dataframe\n",
    "    # Function to process a chunk of the DataFrame\n",
    "    def process_chunk(chunk):\n",
    "        # Create a FeatureCollection from the chunk\n",
    "        features = ee.FeatureCollection([\n",
    "            ee.Feature(ee.Geometry.Point([lon, lat])) for lon, lat in zip(chunk['longitude'], chunk['latitude'])\n",
    "        ])\n",
    "\n",
    "        # Sample the intactness values at the specified locations\n",
    "        intactness_samples = intactness.sampleRegions(\n",
    "            collection=features,\n",
    "            scale=250,  # Scale in meters (resolution of the SRTM dataset)\n",
    "            geometries=True  # Include geometry in the output\n",
    "        )\n",
    "\n",
    "        # Convert the sampled data to a Python list of dictionaries\n",
    "        intactness_samples_list = intactness_samples.getInfo()['features']\n",
    "\n",
    "        # Process the results into a list of dictionaries\n",
    "        chunk_data = []\n",
    "        for feature in intactness_samples_list:\n",
    "            coordinates = feature['geometry']['coordinates']\n",
    "        \n",
    "            intactness_value = feature['properties'][GEE_Intactness_ID]\n",
    "            chunk_data.append({\n",
    "                'Longitude': coordinates[0],\n",
    "                'Latitude': coordinates[1],\n",
    "                'intactness': intactness_value\n",
    "            })\n",
    "\n",
    "        return chunk_data\n",
    "\n",
    "    # Split the DataFrame into chunks of 100 rows\n",
    "    chunk_size = 100\n",
    "    chunks = [df[i:i + chunk_size] for i in range(0, df.shape[0], chunk_size)]\n",
    "\n",
    "    # Process each chunk and combine the results\n",
    "    intactness_data = []\n",
    "    for chunk in chunks:\n",
    "        print(f\"Processing chunk with {len(chunk)} rows...\")\n",
    "        chunk_data = process_chunk(chunk)\n",
    "        intactness_data.extend(chunk_data)\n",
    "\n",
    "    # Create a DataFrame from the combined results\n",
    "    intactness_df = pd.DataFrame(intactness_data)\n",
    "\n",
    "    # Print the DataFrame\n",
    "    # print(intactness_df)\n",
    "    intactness_df[\"Biome\"] = Biome\n",
    "    return intactness_df\n"
   ]
  },
  {
   "cell_type": "code",
   "execution_count": null,
   "id": "4d135e18",
   "metadata": {},
   "outputs": [],
   "source": [
    "\n",
    "def generate_random_points(region, num_points):\n",
    "    # Generate random points within the region\n",
    "    random_points = ee.FeatureCollection.randomPoints(region=region, points=num_points, seed=42)\n",
    "\n",
    "    # Convert FeatureCollection to a list of dictionaries\n",
    "    points_list = random_points.map(lambda f: ee.Feature(f).set('coords', f.geometry().coordinates())).getInfo()\n",
    "    # Extract coordinates and create a DataFrame\n",
    "    coordinates = [{'longitude': f['geometry']['coordinates'][0], 'latitude': f['geometry']['coordinates'][1]} for f in points_list['features']]\n",
    "    df = pd.DataFrame(coordinates)\n",
    "    return df "
   ]
  },
  {
   "cell_type": "code",
   "execution_count": null,
   "id": "00d6e3af",
   "metadata": {},
   "outputs": [],
   "source": [
    "def boxplot_plot(dataframe, title):\n",
    "  plt.figure(figsize=(10, 6))\n",
    "  sns.boxplot(data=dataframe, x='status', y='intactness', palette='Set2', showfliers=False)\n",
    "  plt.title(title, fontsize=14)\n",
    "  plt.xlabel('Status', fontsize=12)\n",
    "  plt.ylabel('Intactness', fontsize=12)\n",
    "  plt.grid(axis='y', linestyle='--', alpha=0.7)\n",
    "  sns.despine()\n",
    "  plt.show()"
   ]
  }
 ],
 "metadata": {
  "kernelspec": {
   "display_name": "Python 3",
   "language": "python",
   "name": "python3"
  },
  "language_info": {
   "codemirror_mode": {
    "name": "ipython",
    "version": 3
   },
   "file_extension": ".py",
   "mimetype": "text/x-python",
   "name": "python",
   "nbconvert_exporter": "python",
   "pygments_lexer": "ipython3",
   "version": "3.12.10"
  }
 },
 "nbformat": 4,
 "nbformat_minor": 5
}
