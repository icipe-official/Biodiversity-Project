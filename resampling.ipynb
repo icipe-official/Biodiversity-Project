{
 "cells": [
  {
   "cell_type": "code",
   "execution_count": null,
   "id": "0c707364",
   "metadata": {},
   "outputs": [],
   "source": [
    "import pandas as pd\n",
    "import warnings\n",
    "import pandas as pd\n",
    "\n",
    "import ee\n",
    "\n",
    "import matplotlib.pyplot as plt\n",
    "warnings.filterwarnings(\"ignore\") \n",
    "\n",
    "ee.Initialize(project=\"teak-component-450514-d6\")\n",
    "\n",
    "\n"
   ]
  },
  {
   "cell_type": "code",
   "execution_count": 1,
   "id": "c20a0808",
   "metadata": {},
   "outputs": [
    {
     "ename": "NameError",
     "evalue": "name 'beetles_shp' is not defined",
     "output_type": "error",
     "traceback": [
      "\u001b[31m---------------------------------------------------------------------------\u001b[39m",
      "\u001b[31mNameError\u001b[39m                                 Traceback (most recent call last)",
      "\u001b[36mCell\u001b[39m\u001b[36m \u001b[39m\u001b[32mIn[1]\u001b[39m\u001b[32m, line 19\u001b[39m\n\u001b[32m     16\u001b[39m     \u001b[38;5;28;01mreturn\u001b[39;00m gdf[mask].reset_index(drop=\u001b[38;5;28;01mTrue\u001b[39;00m)\n\u001b[32m     18\u001b[39m \u001b[38;5;66;03m# Thinning for each group\u001b[39;00m\n\u001b[32m---> \u001b[39m\u001b[32m19\u001b[39m beetles_thinned = spatial_thin_gdf(\u001b[43mbeetles_shp\u001b[49m, lat_col=\u001b[33m'\u001b[39m\u001b[33mLatitude\u001b[39m\u001b[33m'\u001b[39m, lon_col=\u001b[33m'\u001b[39m\u001b[33mLongitude\u001b[39m\u001b[33m'\u001b[39m, min_dist_km=\u001b[32m5\u001b[39m)\n\u001b[32m     20\u001b[39m butterflies_thinned = spatial_thin_gdf(butterflies_shp, lat_col=\u001b[33m'\u001b[39m\u001b[33mlatitude\u001b[39m\u001b[33m'\u001b[39m, lon_col=\u001b[33m'\u001b[39m\u001b[33mlongitude\u001b[39m\u001b[33m'\u001b[39m, min_dist_km=\u001b[32m5\u001b[39m)\n\u001b[32m     21\u001b[39m dragonflies_thinned = spatial_thin_gdf(dragonflies_shp, lat_col=\u001b[33m'\u001b[39m\u001b[33mLatitude\u001b[39m\u001b[33m'\u001b[39m, lon_col=\u001b[33m'\u001b[39m\u001b[33mLongitude\u001b[39m\u001b[33m'\u001b[39m, min_dist_km=\u001b[32m5\u001b[39m)\n",
      "\u001b[31mNameError\u001b[39m: name 'beetles_shp' is not defined"
     ]
    }
   ],
   "source": [
    "from sklearn.neighbors import BallTree\n",
    "import numpy as np\n",
    "\n",
    "def spatial_thin_gdf(gdf, lat_col='Latitude', lon_col='Longitude', min_dist_km=5):\n",
    "    # Convert coordinates to radians for haversine distance\n",
    "    coords = np.radians(gdf[[lat_col, lon_col]].values)\n",
    "    tree = BallTree(coords, metric='haversine')\n",
    "    radius = min_dist_km / 6371.0  # 5 km in radians\n",
    "    mask = np.ones(len(gdf), dtype=bool)\n",
    "    for i in range(len(gdf)):\n",
    "        if not mask[i]:\n",
    "            continue\n",
    "        ind = tree.query_radius([coords[i]], r=radius)[0]\n",
    "        ind = ind[ind > i]\n",
    "        mask[ind] = False\n",
    "    return gdf[mask].reset_index(drop=True)\n",
    "\n",
    "# Thinning for each group\n",
    "beetles_thinned = spatial_thin_gdf(beetles_shp, lat_col='Latitude', lon_col='Longitude', min_dist_km=5)\n",
    "butterflies_thinned = spatial_thin_gdf(butterflies_shp, lat_col='latitude', lon_col='longitude', min_dist_km=5)\n",
    "dragonflies_thinned = spatial_thin_gdf(dragonflies_shp, lat_col='Latitude', lon_col='Longitude', min_dist_km=5)\n",
    "\n",
    "thinned_gdfs = [beetles_thinned, butterflies_thinned, dragonflies_thinned]\n",
    "thinned_names = ['Beetles', 'Butterflies and Moths', 'Dragonflies']\n",
    "thinned_colors = ['red', 'blue', 'green']\n",
    "\n",
    "for gdf, name, color in zip(thinned_gdfs, thinned_names, thinned_colors):\n",
    "    n_points = len(gdf)\n",
    "    ax = africa_shp.plot(color='lightgrey', figsize=(10, 10), edgecolor='black', alpha=0.5)\n",
    "    gdf.plot(ax=ax, color=color, edgecolor='black', alpha=0.5, markersize=5)\n",
    "    plt.title(f\"{name} (5km thinned, n={n_points})\", fontsize=16)\n",
    "    plt.xlabel(\"Longitude\", fontsize=14)\n",
    "    plt.ylabel(\"Latitude\", fontsize=14)\n",
    "    plt.grid(True)\n",
    "    plt.show()\n"
   ]
  },
  {
   "cell_type": "code",
   "execution_count": null,
   "id": "17a3d83c",
   "metadata": {},
   "outputs": [],
   "source": [
    "for x in thinned_gdfs:\n",
    "    print(x.shape)"
   ]
  },
  {
   "cell_type": "code",
   "execution_count": null,
   "id": "2b9d0833",
   "metadata": {},
   "outputs": [],
   "source": [
    "total_points = thinned_gdfs[0].shape[0] + thinned_gdfs[1].shape[0] + thinned_gdfs[2].shape[0]\n",
    "print(f\"Total thinned points across all groups: {total_points}\")"
   ]
  }
 ],
 "metadata": {
  "kernelspec": {
   "display_name": "Python 3",
   "language": "python",
   "name": "python3"
  },
  "language_info": {
   "codemirror_mode": {
    "name": "ipython",
    "version": 3
   },
   "file_extension": ".py",
   "mimetype": "text/x-python",
   "name": "python",
   "nbconvert_exporter": "python",
   "pygments_lexer": "ipython3",
   "version": "3.12.10"
  }
 },
 "nbformat": 4,
 "nbformat_minor": 5
}
