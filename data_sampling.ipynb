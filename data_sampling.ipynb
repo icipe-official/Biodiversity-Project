{
 "cells": [
  {
   "cell_type": "code",
   "execution_count": null,
   "id": "d4ccd20d",
   "metadata": {},
   "outputs": [],
   "source": [
    "import pandas as pd\n",
    "import warnings\n",
    "import pandas as pd\n",
    "import geopandas as gpd\n",
    "import ee\n",
    "import geemap\n",
    "import numpy as np\n",
    "import warnings\n",
    "import seaborn as sns\n",
    "import matplotlib.pyplot as plt\n",
    "warnings.filterwarnings(\"ignore\") \n",
    "\n",
    "ee.Initialize(project=\"teak-component-450514-d6\")\n",
    "\n",
    "\n"
   ]
  },
  {
   "cell_type": "code",
   "execution_count": null,
   "id": "9868f7e5",
   "metadata": {},
   "outputs": [],
   "source": [
    "import os\n",
    "\n",
    "fodler_path = r\"G:\\MyBiodiversity\\Biodiversity\\Biodiversity_Validation\\intactness_outputs\\select_areas\\Species_occurrence\"\n",
    "files = os.listdir(fodler_path)\n",
    "africa_shp = gpd.read_file(fodler_path + r\"\\African countries.shp\")\n",
    "beetles_shp = gpd.read_file(fodler_path + r\"\\beetle_new.shp\")\n",
    "butterflies_shp = gpd.read_file(fodler_path + r\"\\Butterfly_Moth.shp\")\n",
    "dragonflies_shp = gpd.read_file(fodler_path + r\"\\dragon_fly.shp\")"
   ]
  },
  {
   "cell_type": "code",
   "execution_count": null,
   "id": "2b3b26e1",
   "metadata": {},
   "outputs": [],
   "source": [
    "colors = ['red', 'blue', 'green']\n",
    "insect_gdfs = [beetles_shp, butterflies_shp, dragonflies_shp]\n",
    "insect_names = ['Beetles', 'Butterflies and Moths', 'Dragonflies']\n",
    "\n",
    "for gdf, name, color in zip(insect_gdfs, insect_names, colors):\n",
    "    n_points = len(gdf)\n",
    "    ax = africa_shp.plot(color='lightgrey', figsize=(10, 10), edgecolor='black', alpha=0.5)\n",
    "    gdf.plot(ax=ax, color=color, edgecolor='black', alpha=0.5, markersize=5)\n",
    "    plt.title(f\"{name} (n={n_points})\", fontsize=16)\n",
    "    plt.xlabel(\"Longitude\", fontsize=14)\n",
    "    plt.ylabel(\"Latitude\", fontsize=14)\n",
    "    plt.grid(True)\n",
    "    plt.show()\n"
   ]
  }
 ],
 "metadata": {
  "kernelspec": {
   "display_name": "Python 3",
   "language": "python",
   "name": "python3"
  },
  "language_info": {
   "name": "python",
   "version": "3.12.10"
  }
 },
 "nbformat": 4,
 "nbformat_minor": 5
}
